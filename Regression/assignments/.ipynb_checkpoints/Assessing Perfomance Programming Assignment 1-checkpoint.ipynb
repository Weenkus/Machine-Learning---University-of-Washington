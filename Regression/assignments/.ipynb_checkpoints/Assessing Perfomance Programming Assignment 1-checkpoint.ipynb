{
 "cells": [
  {
   "cell_type": "markdown",
   "metadata": {},
   "source": [
    "# Initialise the libs"
   ]
  },
  {
   "cell_type": "code",
   "execution_count": 326,
   "metadata": {
    "collapsed": false
   },
   "outputs": [],
   "source": [
    "import numpy as np\n",
    "import pandas as pa\n",
    "import matplotlib.pyplot as plt\n",
    "from sklearn import linear_model"
   ]
  },
  {
   "cell_type": "markdown",
   "metadata": {},
   "source": [
    "# Load the data"
   ]
  },
  {
   "cell_type": "code",
   "execution_count": 327,
   "metadata": {
    "collapsed": true
   },
   "outputs": [],
   "source": [
    "dtype_dict = {'bathrooms':float, 'waterfront':int, 'sqft_above':int, 'sqft_living15':float, 'grade':int,\n",
    "              'yr_renovated':int, 'price':float, 'bedrooms':float, 'zipcode':str, 'long':float, 'sqft_lot15':float,\n",
    "              'sqft_living':float, 'floors':str, 'condition':int, 'lat':float, 'date':str, 'sqft_basement':int,\n",
    "              'yr_built':int, 'id':str, 'sqft_lot':int, 'view':int}\n",
    "regressionDir = '/media/weenkus/The Beast/Programming/Workspace/Projects/Machine-Learning-University-of-Washington/'"
   ]
  },
  {
   "cell_type": "code",
   "execution_count": 328,
   "metadata": {
    "collapsed": false
   },
   "outputs": [],
   "source": [
    "house_train = pa.read_csv(regressionDir + 'Regression/datasets/wk3_kc_house_train_data.csv', dtype = dtype_dict)\n",
    "house_valid = pa.read_csv(regressionDir + 'Regression/datasets/wk3_kc_house_valid_data.csv', dtype = dtype_dict)\n",
    "house_test = pa.read_csv(regressionDir + 'Regression/datasets/wk3_kc_house_test_data.csv', dtype = dtype_dict)\n",
    "house_set1 = pa.read_csv(regressionDir + 'Regression/datasets/wk3_kc_house_set_1_data.csv', dtype = dtype_dict)\n",
    "house_set2 = pa.read_csv(regressionDir + 'Regression/datasets/wk3_kc_house_set_2_data.csv', dtype = dtype_dict)\n",
    "house_set3 = pa.read_csv(regressionDir + 'Regression/datasets/wk3_kc_house_set_3_data.csv', dtype = dtype_dict)\n",
    "house_set4 = pa.read_csv(regressionDir + 'Regression/datasets/wk3_kc_house_set_4_data.csv', dtype = dtype_dict)\n",
    "sales = pa.read_csv(regressionDir + 'Regression/datasets/kc_house_data.csv', dtype = dtype_dict)"
   ]
  },
  {
   "cell_type": "markdown",
   "metadata": {},
   "source": [
    "# Exploring the data"
   ]
  },
  {
   "cell_type": "code",
   "execution_count": 329,
   "metadata": {
    "collapsed": false
   },
   "outputs": [
    {
     "data": {
      "text/html": [
       "<div>\n",
       "<table border=\"1\" class=\"dataframe\">\n",
       "  <thead>\n",
       "    <tr style=\"text-align: right;\">\n",
       "      <th></th>\n",
       "      <th>id</th>\n",
       "      <th>date</th>\n",
       "      <th>price</th>\n",
       "      <th>bedrooms</th>\n",
       "      <th>bathrooms</th>\n",
       "      <th>sqft_living</th>\n",
       "      <th>sqft_lot</th>\n",
       "      <th>floors</th>\n",
       "      <th>waterfront</th>\n",
       "      <th>view</th>\n",
       "      <th>...</th>\n",
       "      <th>grade</th>\n",
       "      <th>sqft_above</th>\n",
       "      <th>sqft_basement</th>\n",
       "      <th>yr_built</th>\n",
       "      <th>yr_renovated</th>\n",
       "      <th>zipcode</th>\n",
       "      <th>lat</th>\n",
       "      <th>long</th>\n",
       "      <th>sqft_living15</th>\n",
       "      <th>sqft_lot15</th>\n",
       "    </tr>\n",
       "  </thead>\n",
       "  <tbody>\n",
       "    <tr>\n",
       "      <th>0</th>\n",
       "      <td>2487200875</td>\n",
       "      <td>20141209T000000</td>\n",
       "      <td>604000</td>\n",
       "      <td>4</td>\n",
       "      <td>3.00</td>\n",
       "      <td>1960</td>\n",
       "      <td>5000</td>\n",
       "      <td>1</td>\n",
       "      <td>0</td>\n",
       "      <td>0</td>\n",
       "      <td>...</td>\n",
       "      <td>7</td>\n",
       "      <td>1050</td>\n",
       "      <td>910</td>\n",
       "      <td>1965</td>\n",
       "      <td>0</td>\n",
       "      <td>98136</td>\n",
       "      <td>47.5208</td>\n",
       "      <td>-122.393</td>\n",
       "      <td>1360</td>\n",
       "      <td>5000</td>\n",
       "    </tr>\n",
       "    <tr>\n",
       "      <th>1</th>\n",
       "      <td>7237550310</td>\n",
       "      <td>20140512T000000</td>\n",
       "      <td>1225000</td>\n",
       "      <td>4</td>\n",
       "      <td>4.50</td>\n",
       "      <td>5420</td>\n",
       "      <td>101930</td>\n",
       "      <td>1</td>\n",
       "      <td>0</td>\n",
       "      <td>0</td>\n",
       "      <td>...</td>\n",
       "      <td>11</td>\n",
       "      <td>3890</td>\n",
       "      <td>1530</td>\n",
       "      <td>2001</td>\n",
       "      <td>0</td>\n",
       "      <td>98053</td>\n",
       "      <td>47.6561</td>\n",
       "      <td>-122.005</td>\n",
       "      <td>4760</td>\n",
       "      <td>101930</td>\n",
       "    </tr>\n",
       "    <tr>\n",
       "      <th>2</th>\n",
       "      <td>9212900260</td>\n",
       "      <td>20140527T000000</td>\n",
       "      <td>468000</td>\n",
       "      <td>2</td>\n",
       "      <td>1.00</td>\n",
       "      <td>1160</td>\n",
       "      <td>6000</td>\n",
       "      <td>1</td>\n",
       "      <td>0</td>\n",
       "      <td>0</td>\n",
       "      <td>...</td>\n",
       "      <td>7</td>\n",
       "      <td>860</td>\n",
       "      <td>300</td>\n",
       "      <td>1942</td>\n",
       "      <td>0</td>\n",
       "      <td>98115</td>\n",
       "      <td>47.6900</td>\n",
       "      <td>-122.292</td>\n",
       "      <td>1330</td>\n",
       "      <td>6000</td>\n",
       "    </tr>\n",
       "    <tr>\n",
       "      <th>3</th>\n",
       "      <td>0114101516</td>\n",
       "      <td>20140528T000000</td>\n",
       "      <td>310000</td>\n",
       "      <td>3</td>\n",
       "      <td>1.00</td>\n",
       "      <td>1430</td>\n",
       "      <td>19901</td>\n",
       "      <td>1.5</td>\n",
       "      <td>0</td>\n",
       "      <td>0</td>\n",
       "      <td>...</td>\n",
       "      <td>7</td>\n",
       "      <td>1430</td>\n",
       "      <td>0</td>\n",
       "      <td>1927</td>\n",
       "      <td>0</td>\n",
       "      <td>98028</td>\n",
       "      <td>47.7558</td>\n",
       "      <td>-122.229</td>\n",
       "      <td>1780</td>\n",
       "      <td>12697</td>\n",
       "    </tr>\n",
       "    <tr>\n",
       "      <th>4</th>\n",
       "      <td>6054650070</td>\n",
       "      <td>20141007T000000</td>\n",
       "      <td>400000</td>\n",
       "      <td>3</td>\n",
       "      <td>1.75</td>\n",
       "      <td>1370</td>\n",
       "      <td>9680</td>\n",
       "      <td>1</td>\n",
       "      <td>0</td>\n",
       "      <td>0</td>\n",
       "      <td>...</td>\n",
       "      <td>7</td>\n",
       "      <td>1370</td>\n",
       "      <td>0</td>\n",
       "      <td>1977</td>\n",
       "      <td>0</td>\n",
       "      <td>98074</td>\n",
       "      <td>47.6127</td>\n",
       "      <td>-122.045</td>\n",
       "      <td>1370</td>\n",
       "      <td>10208</td>\n",
       "    </tr>\n",
       "  </tbody>\n",
       "</table>\n",
       "<p>5 rows × 21 columns</p>\n",
       "</div>"
      ],
      "text/plain": [
       "           id             date    price  bedrooms  bathrooms  sqft_living  \\\n",
       "0  2487200875  20141209T000000   604000         4       3.00         1960   \n",
       "1  7237550310  20140512T000000  1225000         4       4.50         5420   \n",
       "2  9212900260  20140527T000000   468000         2       1.00         1160   \n",
       "3  0114101516  20140528T000000   310000         3       1.00         1430   \n",
       "4  6054650070  20141007T000000   400000         3       1.75         1370   \n",
       "\n",
       "   sqft_lot floors  waterfront  view     ...      grade  sqft_above  \\\n",
       "0      5000      1           0     0     ...          7        1050   \n",
       "1    101930      1           0     0     ...         11        3890   \n",
       "2      6000      1           0     0     ...          7         860   \n",
       "3     19901    1.5           0     0     ...          7        1430   \n",
       "4      9680      1           0     0     ...          7        1370   \n",
       "\n",
       "   sqft_basement  yr_built  yr_renovated  zipcode      lat     long  \\\n",
       "0            910      1965             0    98136  47.5208 -122.393   \n",
       "1           1530      2001             0    98053  47.6561 -122.005   \n",
       "2            300      1942             0    98115  47.6900 -122.292   \n",
       "3              0      1927             0    98028  47.7558 -122.229   \n",
       "4              0      1977             0    98074  47.6127 -122.045   \n",
       "\n",
       "   sqft_living15  sqft_lot15  \n",
       "0           1360        5000  \n",
       "1           4760      101930  \n",
       "2           1330        6000  \n",
       "3           1780       12697  \n",
       "4           1370       10208  \n",
       "\n",
       "[5 rows x 21 columns]"
      ]
     },
     "execution_count": 329,
     "metadata": {},
     "output_type": "execute_result"
    }
   ],
   "source": [
    "house_train.head()"
   ]
  },
  {
   "cell_type": "code",
   "execution_count": 330,
   "metadata": {
    "collapsed": false
   },
   "outputs": [
    {
     "data": {
      "image/png": "[encoded data removed]",
      "text/plain": [
       "<matplotlib.figure.Figure at 0x7f04c975ecc0>"
      ]
     },
     "metadata": {},
     "output_type": "display_data"
    }
   ],
   "source": [
    "# Show plots in jupyter\n",
    "%matplotlib inline\n",
    "\n",
    "plt.scatter(house_train.price, house_train.bedrooms, alpha=0.5)\n",
    "plt.ylabel('price')\n",
    "plt.xlabel('bedrooms')\n",
    "plt.show()"
   ]
  },
  {
   "cell_type": "code",
   "execution_count": 331,
   "metadata": {
    "collapsed": false
   },
   "outputs": [
    {
     "data": {
      "image/png": "[encoded data removed]",
      "text/plain": [
       "<matplotlib.figure.Figure at 0x7f04c9679c18>"
      ]
     },
     "metadata": {},
     "output_type": "display_data"
    }
   ],
   "source": [
    "plt.scatter(house_train.price, house_train.sqft_living, alpha=0.5)\n",
    "plt.ylabel('price')\n",
    "plt.xlabel('sqft_living')\n",
    "plt.show()"
   ]
  },
  {
   "cell_type": "code",
   "execution_count": 332,
   "metadata": {
    "collapsed": false
   },
   "outputs": [
    {
     "data": {
      "image/png": "[encoded data removed]",
      "text/plain": [
       "<matplotlib.figure.Figure at 0x7f04c969be48>"
      ]
     },
     "metadata": {},
     "output_type": "display_data"
    }
   ],
   "source": [
    "plt.scatter(house_train.price, house_train.zipcode, alpha=0.5)\n",
    "plt.ylabel('price')\n",
    "plt.xlabel('zipcode')\n",
    "plt.show()"
   ]
  },
  {
   "cell_type": "markdown",
   "metadata": {},
   "source": [
    "# Function for adding new features"
   ]
  },
  {
   "cell_type": "code",
   "execution_count": 333,
   "metadata": {
    "collapsed": true
   },
   "outputs": [],
   "source": [
    "def polynomial_dataframe(feature, degree): # feature is pandas.Series type\n",
    "    # assume that degree >= 1\n",
    "    # initialize the dataframe:\n",
    "    poly_dataframe = pa.DataFrame()\n",
    "    # and set poly_dataframe['power_1'] equal to the passed feature\n",
    "    poly_dataframe['power_1'] = feature\n",
    "\n",
    "    # first check if degree > 1\n",
    "    if degree > 1:\n",
    "        # then loop over the remaining degrees:\n",
    "        for power in range(2, degree+1):\n",
    "            # first we'll give the column a name:\n",
    "            name = 'power_' + str(power)\n",
    "            # assign poly_dataframe[name] to be feature^power; use apply(*)\n",
    "            poly_dataframe[name] = feature;\n",
    "            poly_dataframe[name] = poly_dataframe[name].apply(lambda x: x**power)\n",
    "    return poly_dataframe"
   ]
  },
  {
   "cell_type": "code",
   "execution_count": 334,
   "metadata": {
    "collapsed": false
   },
   "outputs": [
    {
     "name": "stderr",
     "output_type": "stream",
     "text": [
      "/home/weenkus/anaconda3/lib/python3.5/site-packages/ipykernel/__main__.py:1: FutureWarning: sort(columns=....) is deprecated, use sort_values(by=.....)\n",
      "  if __name__ == '__main__':\n"
     ]
    },
    {
     "data": {
      "text/html": [
       "<div>\n",
       "<table border=\"1\" class=\"dataframe\">\n",
       "  <thead>\n",
       "    <tr style=\"text-align: right;\">\n",
       "      <th></th>\n",
       "      <th>id</th>\n",
       "      <th>date</th>\n",
       "      <th>price</th>\n",
       "      <th>bedrooms</th>\n",
       "      <th>bathrooms</th>\n",
       "      <th>sqft_living</th>\n",
       "      <th>sqft_lot</th>\n",
       "      <th>floors</th>\n",
       "      <th>waterfront</th>\n",
       "      <th>view</th>\n",
       "      <th>...</th>\n",
       "      <th>grade</th>\n",
       "      <th>sqft_above</th>\n",
       "      <th>sqft_basement</th>\n",
       "      <th>yr_built</th>\n",
       "      <th>yr_renovated</th>\n",
       "      <th>zipcode</th>\n",
       "      <th>lat</th>\n",
       "      <th>long</th>\n",
       "      <th>sqft_living15</th>\n",
       "      <th>sqft_lot15</th>\n",
       "    </tr>\n",
       "  </thead>\n",
       "  <tbody>\n",
       "    <tr>\n",
       "      <th>19452</th>\n",
       "      <td>3980300371</td>\n",
       "      <td>20140926T000000</td>\n",
       "      <td>142000</td>\n",
       "      <td>0</td>\n",
       "      <td>0.00</td>\n",
       "      <td>290</td>\n",
       "      <td>20875</td>\n",
       "      <td>1</td>\n",
       "      <td>0</td>\n",
       "      <td>0</td>\n",
       "      <td>...</td>\n",
       "      <td>1</td>\n",
       "      <td>290</td>\n",
       "      <td>0</td>\n",
       "      <td>1963</td>\n",
       "      <td>0</td>\n",
       "      <td>98024</td>\n",
       "      <td>47.5308</td>\n",
       "      <td>-121.888</td>\n",
       "      <td>1620</td>\n",
       "      <td>22850</td>\n",
       "    </tr>\n",
       "    <tr>\n",
       "      <th>15381</th>\n",
       "      <td>2856101479</td>\n",
       "      <td>20140701T000000</td>\n",
       "      <td>276000</td>\n",
       "      <td>1</td>\n",
       "      <td>0.75</td>\n",
       "      <td>370</td>\n",
       "      <td>1801</td>\n",
       "      <td>1</td>\n",
       "      <td>0</td>\n",
       "      <td>0</td>\n",
       "      <td>...</td>\n",
       "      <td>5</td>\n",
       "      <td>370</td>\n",
       "      <td>0</td>\n",
       "      <td>1923</td>\n",
       "      <td>0</td>\n",
       "      <td>98117</td>\n",
       "      <td>47.6778</td>\n",
       "      <td>-122.389</td>\n",
       "      <td>1340</td>\n",
       "      <td>5000</td>\n",
       "    </tr>\n",
       "    <tr>\n",
       "      <th>860</th>\n",
       "      <td>1723049033</td>\n",
       "      <td>20140620T000000</td>\n",
       "      <td>245000</td>\n",
       "      <td>1</td>\n",
       "      <td>0.75</td>\n",
       "      <td>380</td>\n",
       "      <td>15000</td>\n",
       "      <td>1</td>\n",
       "      <td>0</td>\n",
       "      <td>0</td>\n",
       "      <td>...</td>\n",
       "      <td>5</td>\n",
       "      <td>380</td>\n",
       "      <td>0</td>\n",
       "      <td>1963</td>\n",
       "      <td>0</td>\n",
       "      <td>98168</td>\n",
       "      <td>47.4810</td>\n",
       "      <td>-122.323</td>\n",
       "      <td>1170</td>\n",
       "      <td>15000</td>\n",
       "    </tr>\n",
       "    <tr>\n",
       "      <th>18379</th>\n",
       "      <td>1222029077</td>\n",
       "      <td>20141029T000000</td>\n",
       "      <td>265000</td>\n",
       "      <td>0</td>\n",
       "      <td>0.75</td>\n",
       "      <td>384</td>\n",
       "      <td>213444</td>\n",
       "      <td>1</td>\n",
       "      <td>0</td>\n",
       "      <td>0</td>\n",
       "      <td>...</td>\n",
       "      <td>4</td>\n",
       "      <td>384</td>\n",
       "      <td>0</td>\n",
       "      <td>2003</td>\n",
       "      <td>0</td>\n",
       "      <td>98070</td>\n",
       "      <td>47.4177</td>\n",
       "      <td>-122.491</td>\n",
       "      <td>1920</td>\n",
       "      <td>224341</td>\n",
       "    </tr>\n",
       "    <tr>\n",
       "      <th>4868</th>\n",
       "      <td>6896300380</td>\n",
       "      <td>20141002T000000</td>\n",
       "      <td>228000</td>\n",
       "      <td>0</td>\n",
       "      <td>1.00</td>\n",
       "      <td>390</td>\n",
       "      <td>5900</td>\n",
       "      <td>1</td>\n",
       "      <td>0</td>\n",
       "      <td>0</td>\n",
       "      <td>...</td>\n",
       "      <td>4</td>\n",
       "      <td>390</td>\n",
       "      <td>0</td>\n",
       "      <td>1953</td>\n",
       "      <td>0</td>\n",
       "      <td>98118</td>\n",
       "      <td>47.5260</td>\n",
       "      <td>-122.261</td>\n",
       "      <td>2170</td>\n",
       "      <td>6000</td>\n",
       "    </tr>\n",
       "  </tbody>\n",
       "</table>\n",
       "<p>5 rows × 21 columns</p>\n",
       "</div>"
      ],
      "text/plain": [
       "               id             date   price  bedrooms  bathrooms  sqft_living  \\\n",
       "19452  3980300371  20140926T000000  142000         0       0.00          290   \n",
       "15381  2856101479  20140701T000000  276000         1       0.75          370   \n",
       "860    1723049033  20140620T000000  245000         1       0.75          380   \n",
       "18379  1222029077  20141029T000000  265000         0       0.75          384   \n",
       "4868   6896300380  20141002T000000  228000         0       1.00          390   \n",
       "\n",
       "       sqft_lot floors  waterfront  view     ...      grade  sqft_above  \\\n",
       "19452     20875      1           0     0     ...          1         290   \n",
       "15381      1801      1           0     0     ...          5         370   \n",
       "860       15000      1           0     0     ...          5         380   \n",
       "18379    213444      1           0     0     ...          4         384   \n",
       "4868       5900      1           0     0     ...          4         390   \n",
       "\n",
       "       sqft_basement  yr_built  yr_renovated  zipcode      lat     long  \\\n",
       "19452              0      1963             0    98024  47.5308 -121.888   \n",
       "15381              0      1923             0    98117  47.6778 -122.389   \n",
       "860                0      1963             0    98168  47.4810 -122.323   \n",
       "18379              0      2003             0    98070  47.4177 -122.491   \n",
       "4868               0      1953             0    98118  47.5260 -122.261   \n",
       "\n",
       "       sqft_living15  sqft_lot15  \n",
       "19452           1620       22850  \n",
       "15381           1340        5000  \n",
       "860             1170       15000  \n",
       "18379           1920      224341  \n",
       "4868            2170        6000  \n",
       "\n",
       "[5 rows x 21 columns]"
      ]
     },
     "execution_count": 334,
     "metadata": {},
     "output_type": "execute_result"
    }
   ],
   "source": [
    "sales = sales.sort(['sqft_living','price'])\n",
    "sales.head()"
   ]
  },
  {
   "cell_type": "markdown",
   "metadata": {},
   "source": [
    "# Add new features with the new function"
   ]
  },
  {
   "cell_type": "code",
   "execution_count": 335,
   "metadata": {
    "collapsed": false
   },
   "outputs": [],
   "source": [
    "poly1_data = polynomial_dataframe(sales['sqft_living'], 1)\n",
    "poly1_data['price'] = sales['price']"
   ]
  },
  {
   "cell_type": "code",
   "execution_count": 336,
   "metadata": {
    "collapsed": false
   },
   "outputs": [
    {
     "data": {
      "text/html": [
       "<div>\n",
       "<table border=\"1\" class=\"dataframe\">\n",
       "  <thead>\n",
       "    <tr style=\"text-align: right;\">\n",
       "      <th></th>\n",
       "      <th>power_1</th>\n",
       "      <th>price</th>\n",
       "    </tr>\n",
       "  </thead>\n",
       "  <tbody>\n",
       "    <tr>\n",
       "      <th>19452</th>\n",
       "      <td>290</td>\n",
       "      <td>142000</td>\n",
       "    </tr>\n",
       "    <tr>\n",
       "      <th>15381</th>\n",
       "      <td>370</td>\n",
       "      <td>276000</td>\n",
       "    </tr>\n",
       "    <tr>\n",
       "      <th>860</th>\n",
       "      <td>380</td>\n",
       "      <td>245000</td>\n",
       "    </tr>\n",
       "    <tr>\n",
       "      <th>18379</th>\n",
       "      <td>384</td>\n",
       "      <td>265000</td>\n",
       "    </tr>\n",
       "    <tr>\n",
       "      <th>4868</th>\n",
       "      <td>390</td>\n",
       "      <td>228000</td>\n",
       "    </tr>\n",
       "  </tbody>\n",
       "</table>\n",
       "</div>"
      ],
      "text/plain": [
       "       power_1   price\n",
       "19452      290  142000\n",
       "15381      370  276000\n",
       "860        380  245000\n",
       "18379      384  265000\n",
       "4868       390  228000"
      ]
     },
     "execution_count": 336,
     "metadata": {},
     "output_type": "execute_result"
    }
   ],
   "source": [
    "poly1_data.head()"
   ]
  },
  {
   "cell_type": "markdown",
   "metadata": {},
   "source": [
    "# Create a regression model"
   ]
  },
  {
   "cell_type": "code",
   "execution_count": 337,
   "metadata": {
    "collapsed": false
   },
   "outputs": [
    {
     "data": {
      "text/plain": [
       "LinearRegression(copy_X=True, fit_intercept=True, n_jobs=1, normalize=False)"
      ]
     },
     "execution_count": 337,
     "metadata": {},
     "output_type": "execute_result"
    }
   ],
   "source": [
    "model1 = linear_model.LinearRegression()\n",
    "model1.fit(poly1_data[['power_1']], poly1_data['price'])"
   ]
  },
  {
   "cell_type": "code",
   "execution_count": 338,
   "metadata": {
    "collapsed": false
   },
   "outputs": [
    {
     "data": {
      "text/plain": [
       "<matplotlib.text.Text at 0x7f04c9647470>"
      ]
     },
     "execution_count": 338,
     "metadata": {},
     "output_type": "execute_result"
    },
    {
     "data": {
      "image/png": "[encoded data removed]",
      "text/plain": [
       "<matplotlib.figure.Figure at 0x7f04c95e8160>"
      ]
     },
     "metadata": {},
     "output_type": "display_data"
    }
   ],
   "source": [
    "plt.plot(poly1_data.power_1,poly1_data.price, '.',\n",
    "poly1_data[['power_1']], model1.predict(poly1_data[['power_1']]),'-')\n",
    "plt.ylabel('House price')\n",
    "plt.xlabel('Sqft')"
   ]
  },
  {
   "cell_type": "markdown",
   "metadata": {},
   "source": [
    "# Create a regression model for polynomials 2 and 3"
   ]
  },
  {
   "cell_type": "code",
   "execution_count": 339,
   "metadata": {
    "collapsed": false
   },
   "outputs": [],
   "source": [
    "poly3_data = polynomial_dataframe(sales['sqft_living'], 3)\n",
    "poly3_data['price'] = sales['price']"
   ]
  },
  {
   "cell_type": "code",
   "execution_count": 340,
   "metadata": {
    "collapsed": false
   },
   "outputs": [
    {
     "data": {
      "text/html": [
       "<div>\n",
       "<table border=\"1\" class=\"dataframe\">\n",
       "  <thead>\n",
       "    <tr style=\"text-align: right;\">\n",
       "      <th></th>\n",
       "      <th>power_1</th>\n",
       "      <th>power_2</th>\n",
       "      <th>power_3</th>\n",
       "      <th>price</th>\n",
       "    </tr>\n",
       "  </thead>\n",
       "  <tbody>\n",
       "    <tr>\n",
       "      <th>19452</th>\n",
       "      <td>290</td>\n",
       "      <td>84100</td>\n",
       "      <td>24389000</td>\n",
       "      <td>142000</td>\n",
       "    </tr>\n",
       "    <tr>\n",
       "      <th>15381</th>\n",
       "      <td>370</td>\n",
       "      <td>136900</td>\n",
       "      <td>50653000</td>\n",
       "      <td>276000</td>\n",
       "    </tr>\n",
       "    <tr>\n",
       "      <th>860</th>\n",
       "      <td>380</td>\n",
       "      <td>144400</td>\n",
       "      <td>54872000</td>\n",
       "      <td>245000</td>\n",
       "    </tr>\n",
       "    <tr>\n",
       "      <th>18379</th>\n",
       "      <td>384</td>\n",
       "      <td>147456</td>\n",
       "      <td>56623104</td>\n",
       "      <td>265000</td>\n",
       "    </tr>\n",
       "    <tr>\n",
       "      <th>4868</th>\n",
       "      <td>390</td>\n",
       "      <td>152100</td>\n",
       "      <td>59319000</td>\n",
       "      <td>228000</td>\n",
       "    </tr>\n",
       "  </tbody>\n",
       "</table>\n",
       "</div>"
      ],
      "text/plain": [
       "       power_1  power_2   power_3   price\n",
       "19452      290    84100  24389000  142000\n",
       "15381      370   136900  50653000  276000\n",
       "860        380   144400  54872000  245000\n",
       "18379      384   147456  56623104  265000\n",
       "4868       390   152100  59319000  228000"
      ]
     },
     "execution_count": 340,
     "metadata": {},
     "output_type": "execute_result"
    }
   ],
   "source": [
    "poly3_data.head() # third polynomial"
   ]
  },
  {
   "cell_type": "code",
   "execution_count": 341,
   "metadata": {
    "collapsed": false
   },
   "outputs": [
    {
     "data": {
      "text/plain": [
       "LinearRegression(copy_X=True, fit_intercept=True, n_jobs=1, normalize=False)"
      ]
     },
     "execution_count": 341,
     "metadata": {},
     "output_type": "execute_result"
    }
   ],
   "source": [
    "model2 = linear_model.LinearRegression()\n",
    "model2.fit(poly3_data[['power_2']], poly3_data['price'])\n",
    "\n",
    "model3 = linear_model.LinearRegression()\n",
    "model3.fit(poly3_data[['power_3']], poly3_data['price'])"
   ]
  },
  {
   "cell_type": "markdown",
   "metadata": {},
   "source": [
    "## Regression model with a second degree polynomial"
   ]
  },
  {
   "cell_type": "code",
   "execution_count": 342,
   "metadata": {
    "collapsed": false
   },
   "outputs": [
    {
     "data": {
      "text/plain": [
       "<matplotlib.text.Text at 0x7f04c9547518>"
      ]
     },
     "execution_count": 342,
     "metadata": {},
     "output_type": "execute_result"
    },
    {
     "data": {
      "image/png": "[encoded data removed]",
      "text/plain": [
       "<matplotlib.figure.Figure at 0x7f04c967c0f0>"
      ]
     },
     "metadata": {},
     "output_type": "display_data"
    }
   ],
   "source": [
    "plt.plot(poly3_data[['power_2']], model2.predict(poly3_data[['price']]),'-')\n",
    "plt.ylabel('House price')\n",
    "plt.xlabel('Sqft polynomial degree 2')"
   ]
  },
  {
   "cell_type": "code",
   "execution_count": 343,
   "metadata": {
    "collapsed": false
   },
   "outputs": [
    {
     "name": "stdout",
     "output_type": "stream",
     "text": [
      "Model2:  [ 0.04939429]\n"
     ]
    }
   ],
   "source": [
    "print ('Model2: ', model2.coef_)"
   ]
  },
  {
   "cell_type": "markdown",
   "metadata": {},
   "source": [
    "## Regression model with a third degree polynomial"
   ]
  },
  {
   "cell_type": "code",
   "execution_count": 344,
   "metadata": {
    "collapsed": false
   },
   "outputs": [
    {
     "data": {
      "text/plain": [
       "<matplotlib.text.Text at 0x7f04c94989b0>"
      ]
     },
     "execution_count": 344,
     "metadata": {},
     "output_type": "execute_result"
    },
    {
     "data": {
      "image/png": "[encoded data removed]",
      "text/plain": [
       "<matplotlib.figure.Figure at 0x7f04c951f0b8>"
      ]
     },
     "metadata": {},
     "output_type": "display_data"
    }
   ],
   "source": [
    "plt.plot(poly3_data[['power_3']], model3.predict(poly3_data[['price']]),'-')\n",
    "plt.ylabel('House price')\n",
    "plt.xlabel('Sqft polynomial degree 3')"
   ]
  },
  {
   "cell_type": "code",
   "execution_count": 345,
   "metadata": {
    "collapsed": false
   },
   "outputs": [
    {
     "name": "stdout",
     "output_type": "stream",
     "text": [
      "Model3:  [  6.29505518e-06]\n"
     ]
    }
   ],
   "source": [
    "print ('Model3: ', model3.coef_)"
   ]
  },
  {
   "cell_type": "markdown",
   "metadata": {},
   "source": [
    "# Estimate the 15th degree wiht the four house sets"
   ]
  },
  {
   "cell_type": "code",
   "execution_count": 346,
   "metadata": {
    "collapsed": true
   },
   "outputs": [],
   "source": [
    "poly15_set1_data = polynomial_dataframe(house_set1['sqft_living'], 15)\n",
    "poly15_set1_data['price'] = house_set1['price']\n",
    "\n",
    "poly15_set2_data = polynomial_dataframe(house_set2['sqft_living'], 15)\n",
    "poly15_set2_data['price'] = house_set2['price']\n",
    "\n",
    "poly15_set3_data = polynomial_dataframe(house_set3['sqft_living'], 15)\n",
    "poly15_set3_data['price'] = house_set3['price']\n",
    "\n",
    "poly15_set4_data = polynomial_dataframe(house_set4['sqft_living'], 15)\n",
    "poly15_set4_data['price'] = house_set4['price']"
   ]
  },
  {
   "cell_type": "code",
   "execution_count": 347,
   "metadata": {
    "collapsed": false
   },
   "outputs": [
    {
     "data": {
      "text/html": [
       "<div>\n",
       "<table border=\"1\" class=\"dataframe\">\n",
       "  <thead>\n",
       "    <tr style=\"text-align: right;\">\n",
       "      <th></th>\n",
       "      <th>power_1</th>\n",
       "      <th>power_2</th>\n",
       "      <th>power_3</th>\n",
       "      <th>power_4</th>\n",
       "      <th>power_5</th>\n",
       "      <th>power_6</th>\n",
       "      <th>power_7</th>\n",
       "      <th>power_8</th>\n",
       "      <th>power_9</th>\n",
       "      <th>power_10</th>\n",
       "      <th>power_11</th>\n",
       "      <th>power_12</th>\n",
       "      <th>power_13</th>\n",
       "      <th>power_14</th>\n",
       "      <th>power_15</th>\n",
       "      <th>price</th>\n",
       "    </tr>\n",
       "  </thead>\n",
       "  <tbody>\n",
       "    <tr>\n",
       "      <th>0</th>\n",
       "      <td>430</td>\n",
       "      <td>184900</td>\n",
       "      <td>79507000</td>\n",
       "      <td>34188010000</td>\n",
       "      <td>1.470084e+13</td>\n",
       "      <td>6.321363e+15</td>\n",
       "      <td>2.718186e+18</td>\n",
       "      <td>1.168820e+21</td>\n",
       "      <td>5.025926e+23</td>\n",
       "      <td>2.161148e+26</td>\n",
       "      <td>9.292937e+28</td>\n",
       "      <td>3.995963e+31</td>\n",
       "      <td>1.718264e+34</td>\n",
       "      <td>7.388536e+36</td>\n",
       "      <td>3.177070e+39</td>\n",
       "      <td>80000</td>\n",
       "    </tr>\n",
       "    <tr>\n",
       "      <th>1</th>\n",
       "      <td>460</td>\n",
       "      <td>211600</td>\n",
       "      <td>97336000</td>\n",
       "      <td>44774560000</td>\n",
       "      <td>2.059630e+13</td>\n",
       "      <td>9.474297e+15</td>\n",
       "      <td>4.358177e+18</td>\n",
       "      <td>2.004761e+21</td>\n",
       "      <td>9.221902e+23</td>\n",
       "      <td>4.242075e+26</td>\n",
       "      <td>1.951354e+29</td>\n",
       "      <td>8.976230e+31</td>\n",
       "      <td>4.129066e+34</td>\n",
       "      <td>1.899370e+37</td>\n",
       "      <td>8.737103e+39</td>\n",
       "      <td>247000</td>\n",
       "    </tr>\n",
       "    <tr>\n",
       "      <th>2</th>\n",
       "      <td>470</td>\n",
       "      <td>220900</td>\n",
       "      <td>103823000</td>\n",
       "      <td>48796810000</td>\n",
       "      <td>2.293450e+13</td>\n",
       "      <td>1.077922e+16</td>\n",
       "      <td>5.066231e+18</td>\n",
       "      <td>2.381129e+21</td>\n",
       "      <td>1.119130e+24</td>\n",
       "      <td>5.259913e+26</td>\n",
       "      <td>2.472159e+29</td>\n",
       "      <td>1.161915e+32</td>\n",
       "      <td>5.461000e+34</td>\n",
       "      <td>2.566670e+37</td>\n",
       "      <td>1.206335e+40</td>\n",
       "      <td>192500</td>\n",
       "    </tr>\n",
       "    <tr>\n",
       "      <th>3</th>\n",
       "      <td>490</td>\n",
       "      <td>240100</td>\n",
       "      <td>117649000</td>\n",
       "      <td>57648010000</td>\n",
       "      <td>2.824752e+13</td>\n",
       "      <td>1.384129e+16</td>\n",
       "      <td>6.782231e+18</td>\n",
       "      <td>3.323293e+21</td>\n",
       "      <td>1.628414e+24</td>\n",
       "      <td>7.979227e+26</td>\n",
       "      <td>3.909821e+29</td>\n",
       "      <td>1.915812e+32</td>\n",
       "      <td>9.387480e+34</td>\n",
       "      <td>4.599865e+37</td>\n",
       "      <td>2.253934e+40</td>\n",
       "      <td>150000</td>\n",
       "    </tr>\n",
       "    <tr>\n",
       "      <th>4</th>\n",
       "      <td>500</td>\n",
       "      <td>250000</td>\n",
       "      <td>125000000</td>\n",
       "      <td>62500000000</td>\n",
       "      <td>3.125000e+13</td>\n",
       "      <td>1.562500e+16</td>\n",
       "      <td>7.812500e+18</td>\n",
       "      <td>3.906250e+21</td>\n",
       "      <td>1.953125e+24</td>\n",
       "      <td>9.765625e+26</td>\n",
       "      <td>4.882812e+29</td>\n",
       "      <td>2.441406e+32</td>\n",
       "      <td>1.220703e+35</td>\n",
       "      <td>6.103516e+37</td>\n",
       "      <td>3.051758e+40</td>\n",
       "      <td>125000</td>\n",
       "    </tr>\n",
       "  </tbody>\n",
       "</table>\n",
       "</div>"
      ],
      "text/plain": [
       "   power_1  power_2    power_3      power_4       power_5       power_6  \\\n",
       "0      430   184900   79507000  34188010000  1.470084e+13  6.321363e+15   \n",
       "1      460   211600   97336000  44774560000  2.059630e+13  9.474297e+15   \n",
       "2      470   220900  103823000  48796810000  2.293450e+13  1.077922e+16   \n",
       "3      490   240100  117649000  57648010000  2.824752e+13  1.384129e+16   \n",
       "4      500   250000  125000000  62500000000  3.125000e+13  1.562500e+16   \n",
       "\n",
       "        power_7       power_8       power_9      power_10      power_11  \\\n",
       "0  2.718186e+18  1.168820e+21  5.025926e+23  2.161148e+26  9.292937e+28   \n",
       "1  4.358177e+18  2.004761e+21  9.221902e+23  4.242075e+26  1.951354e+29   \n",
       "2  5.066231e+18  2.381129e+21  1.119130e+24  5.259913e+26  2.472159e+29   \n",
       "3  6.782231e+18  3.323293e+21  1.628414e+24  7.979227e+26  3.909821e+29   \n",
       "4  7.812500e+18  3.906250e+21  1.953125e+24  9.765625e+26  4.882812e+29   \n",
       "\n",
       "       power_12      power_13      power_14      power_15   price  \n",
       "0  3.995963e+31  1.718264e+34  7.388536e+36  3.177070e+39   80000  \n",
       "1  8.976230e+31  4.129066e+34  1.899370e+37  8.737103e+39  247000  \n",
       "2  1.161915e+32  5.461000e+34  2.566670e+37  1.206335e+40  192500  \n",
       "3  1.915812e+32  9.387480e+34  4.599865e+37  2.253934e+40  150000  \n",
       "4  2.441406e+32  1.220703e+35  6.103516e+37  3.051758e+40  125000  "
      ]
     },
     "execution_count": 347,
     "metadata": {},
     "output_type": "execute_result"
    }
   ],
   "source": [
    "poly15_set1_data.head()"
   ]
  },
  {
   "cell_type": "code",
   "execution_count": 348,
   "metadata": {
    "collapsed": false
   },
   "outputs": [
    {
     "data": {
      "text/plain": [
       "LinearRegression(copy_X=True, fit_intercept=True, n_jobs=1, normalize=False)"
      ]
     },
     "execution_count": 348,
     "metadata": {},
     "output_type": "execute_result"
    }
   ],
   "source": [
    "model_poly15_set1 = linear_model.LinearRegression()\n",
    "model_poly15_set1.fit(poly15_set1_data[['power_15']], poly15_set1_data['price'])\n",
    "\n",
    "model_poly15_set2 = linear_model.LinearRegression()\n",
    "model_poly15_set2.fit(poly15_set2_data[['power_15']], poly15_set2_data['price'])\n",
    "\n",
    "model_poly15_set3 = linear_model.LinearRegression()\n",
    "model_poly15_set3.fit(poly15_set3_data[['power_15']], poly15_set3_data['price'])\n",
    "\n",
    "model_poly15_set4 = linear_model.LinearRegression()\n",
    "model_poly15_set4.fit(poly15_set4_data[['power_15']], poly15_set4_data['price'])"
   ]
  },
  {
   "cell_type": "markdown",
   "metadata": {},
   "source": [
    "### House set 1 regression model for 15th degree polynomial"
   ]
  },
  {
   "cell_type": "code",
   "execution_count": 349,
   "metadata": {
    "collapsed": false
   },
   "outputs": [
    {
     "data": {
      "text/plain": [
       "<matplotlib.text.Text at 0x7f04c950ebe0>"
      ]
     },
     "execution_count": 349,
     "metadata": {},
     "output_type": "execute_result"
    },
    {
     "data": {
      "image/png": "[encoded data removed]",
      "text/plain": [
       "<matplotlib.figure.Figure at 0x7f04c94dc358>"
      ]
     },
     "metadata": {},
     "output_type": "display_data"
    }
   ],
   "source": [
    "plt.plot(poly15_set1_data.power_15 ,poly15_set1_data.price, '.',\n",
    "poly15_set1_data[['power_15']], model_poly15_set1.predict(poly15_set1_data[['price']]),'-')\n",
    "plt.ylabel('House price')\n",
    "plt.xlabel('Sqft polynomial degree 15')"
   ]
  },
  {
   "cell_type": "code",
   "execution_count": 350,
   "metadata": {
    "collapsed": false
   },
   "outputs": [],
   "source": [
    "#pint ('Model for set1: ', model_poly15_set1.coef_)"
   ]
  },
  {
   "cell_type": "markdown",
   "metadata": {},
   "source": [
    "### House set 2 regression model for 15th degree polynomial"
   ]
  },
  {
   "cell_type": "code",
   "execution_count": 351,
   "metadata": {
    "collapsed": false
   },
   "outputs": [
    {
     "data": {
      "text/plain": [
       "<matplotlib.text.Text at 0x7f04c94f19b0>"
      ]
     },
     "execution_count": 351,
     "metadata": {},
     "output_type": "execute_result"
    },
    {
     "data": {
      "image/png": "[encoded data removed]",
      "text/plain": [
       "<matplotlib.figure.Figure at 0x7f04c944a0b8>"
      ]
     },
     "metadata": {},
     "output_type": "display_data"
    }
   ],
   "source": [
    "plt.plot(poly15_set2_data.power_15 ,poly15_set2_data.price, '.',\n",
    "poly15_set2_data[['power_15']], model_poly15_set2.predict(poly15_set2_data[['price']]),'-')\n",
    "plt.ylabel('House price')\n",
    "plt.xlabel('Sqft polynomial degree 15')"
   ]
  },
  {
   "cell_type": "code",
   "execution_count": 352,
   "metadata": {
    "collapsed": false
   },
   "outputs": [
    {
     "name": "stdout",
     "output_type": "stream",
     "text": [
      "Model for set12:  [  1.86753194e-53]\n"
     ]
    }
   ],
   "source": [
    "print ('Model for set12: ', model_poly15_set2.coef_)"
   ]
  },
  {
   "cell_type": "markdown",
   "metadata": {},
   "source": [
    "### House set 3 regression model for 15th degree polynomial"
   ]
  },
  {
   "cell_type": "code",
   "execution_count": 353,
   "metadata": {
    "collapsed": false
   },
   "outputs": [
    {
     "data": {
      "text/plain": [
       "<matplotlib.text.Text at 0x7f04c9579cf8>"
      ]
     },
     "execution_count": 353,
     "metadata": {},
     "output_type": "execute_result"
    },
    {
     "data": {
      "image/png": "[encoded data removed]",
      "text/plain": [
       "<matplotlib.figure.Figure at 0x7f04c93b73c8>"
      ]
     },
     "metadata": {},
     "output_type": "display_data"
    }
   ],
   "source": [
    "plt.plot(poly15_set3_data.power_15 ,poly15_set3_data.price, '.',\n",
    "poly15_set3_data[['power_15']], model_poly15_set3.predict(poly15_set3_data[['price']]),'-')\n",
    "plt.ylabel('House price')\n",
    "plt.xlabel('Sqft polynomial degree 15')"
   ]
  },
  {
   "cell_type": "code",
   "execution_count": 354,
   "metadata": {
    "collapsed": false
   },
   "outputs": [
    {
     "name": "stdout",
     "output_type": "stream",
     "text": [
      "Model for set3:  [  6.78755526e-54]\n"
     ]
    }
   ],
   "source": [
    "print ('Model for set3: ', model_poly15_set3.coef_)"
   ]
  },
  {
   "cell_type": "markdown",
   "metadata": {},
   "source": [
    "### House set 4 regression model for 15th degree polynomial"
   ]
  },
  {
   "cell_type": "code",
   "execution_count": 355,
   "metadata": {
    "collapsed": false
   },
   "outputs": [
    {
     "data": {
      "text/plain": [
       "<matplotlib.text.Text at 0x7f04c9431358>"
      ]
     },
     "execution_count": 355,
     "metadata": {},
     "output_type": "execute_result"
    },
    {
     "data": {
      "image/png": "[encoded data removed]",
      "text/plain": [
       "<matplotlib.figure.Figure at 0x7f04c92dc320>"
      ]
     },
     "metadata": {},
     "output_type": "display_data"
    }
   ],
   "source": [
    "plt.plot(poly15_set4_data.power_15 ,poly15_set4_data.price, '.',\n",
    "poly15_set4_data[['power_15']], model_poly15_set4.predict(poly15_set4_data[['price']]),'-')\n",
    "plt.ylabel('House price')\n",
    "plt.xlabel('Sqft polynomial degree 15')"
   ]
  },
  {
   "cell_type": "code",
   "execution_count": 356,
   "metadata": {
    "collapsed": false
   },
   "outputs": [
    {
     "name": "stdout",
     "output_type": "stream",
     "text": [
      "Model for set4:  [  1.19721477e-52]\n"
     ]
    }
   ],
   "source": [
    "print ('Model for set4: ', model_poly15_set4.coef_)"
   ]
  },
  {
   "cell_type": "markdown",
   "metadata": {},
   "source": [
    "# Finding the optimal polynomial degree"
   ]
  },
  {
   "cell_type": "code",
   "execution_count": 357,
   "metadata": {
    "collapsed": false
   },
   "outputs": [
    {
     "data": {
      "text/html": [
       "<div>\n",
       "<table border=\"1\" class=\"dataframe\">\n",
       "  <thead>\n",
       "    <tr style=\"text-align: right;\">\n",
       "      <th></th>\n",
       "      <th>power_1</th>\n",
       "      <th>power_2</th>\n",
       "      <th>power_3</th>\n",
       "      <th>power_4</th>\n",
       "      <th>power_5</th>\n",
       "      <th>power_6</th>\n",
       "      <th>power_7</th>\n",
       "      <th>power_8</th>\n",
       "      <th>power_9</th>\n",
       "      <th>power_10</th>\n",
       "      <th>power_11</th>\n",
       "      <th>power_12</th>\n",
       "      <th>power_13</th>\n",
       "      <th>power_14</th>\n",
       "      <th>power_15</th>\n",
       "      <th>price</th>\n",
       "    </tr>\n",
       "  </thead>\n",
       "  <tbody>\n",
       "    <tr>\n",
       "      <th>0</th>\n",
       "      <td>1180</td>\n",
       "      <td>1392400</td>\n",
       "      <td>1643032000</td>\n",
       "      <td>1.938778e+12</td>\n",
       "      <td>2.287758e+15</td>\n",
       "      <td>2.699554e+18</td>\n",
       "      <td>3.185474e+21</td>\n",
       "      <td>3.758859e+24</td>\n",
       "      <td>4.435454e+27</td>\n",
       "      <td>5.233836e+30</td>\n",
       "      <td>6.175926e+33</td>\n",
       "      <td>7.287593e+36</td>\n",
       "      <td>8.599359e+39</td>\n",
       "      <td>1.014724e+43</td>\n",
       "      <td>1.197375e+46</td>\n",
       "      <td>221900</td>\n",
       "    </tr>\n",
       "    <tr>\n",
       "      <th>1</th>\n",
       "      <td>2570</td>\n",
       "      <td>6604900</td>\n",
       "      <td>16974593000</td>\n",
       "      <td>4.362470e+13</td>\n",
       "      <td>1.121155e+17</td>\n",
       "      <td>2.881368e+20</td>\n",
       "      <td>7.405116e+23</td>\n",
       "      <td>1.903115e+27</td>\n",
       "      <td>4.891005e+30</td>\n",
       "      <td>1.256988e+34</td>\n",
       "      <td>3.230460e+37</td>\n",
       "      <td>8.302282e+40</td>\n",
       "      <td>2.133686e+44</td>\n",
       "      <td>5.483574e+47</td>\n",
       "      <td>1.409279e+51</td>\n",
       "      <td>538000</td>\n",
       "    </tr>\n",
       "    <tr>\n",
       "      <th>2</th>\n",
       "      <td>770</td>\n",
       "      <td>592900</td>\n",
       "      <td>456533000</td>\n",
       "      <td>3.515304e+11</td>\n",
       "      <td>2.706784e+14</td>\n",
       "      <td>2.084224e+17</td>\n",
       "      <td>1.604852e+20</td>\n",
       "      <td>1.235736e+23</td>\n",
       "      <td>9.515169e+25</td>\n",
       "      <td>7.326680e+28</td>\n",
       "      <td>5.641544e+31</td>\n",
       "      <td>4.343989e+34</td>\n",
       "      <td>3.344871e+37</td>\n",
       "      <td>2.575551e+40</td>\n",
       "      <td>1.983174e+43</td>\n",
       "      <td>180000</td>\n",
       "    </tr>\n",
       "    <tr>\n",
       "      <th>3</th>\n",
       "      <td>1680</td>\n",
       "      <td>2822400</td>\n",
       "      <td>4741632000</td>\n",
       "      <td>7.965942e+12</td>\n",
       "      <td>1.338278e+16</td>\n",
       "      <td>2.248307e+19</td>\n",
       "      <td>3.777156e+22</td>\n",
       "      <td>6.345623e+25</td>\n",
       "      <td>1.066065e+29</td>\n",
       "      <td>1.790989e+32</td>\n",
       "      <td>3.008861e+35</td>\n",
       "      <td>5.054886e+38</td>\n",
       "      <td>8.492209e+41</td>\n",
       "      <td>1.426691e+45</td>\n",
       "      <td>2.396841e+48</td>\n",
       "      <td>510000</td>\n",
       "    </tr>\n",
       "    <tr>\n",
       "      <th>4</th>\n",
       "      <td>1715</td>\n",
       "      <td>2941225</td>\n",
       "      <td>5044200875</td>\n",
       "      <td>8.650805e+12</td>\n",
       "      <td>1.483613e+16</td>\n",
       "      <td>2.544396e+19</td>\n",
       "      <td>4.363640e+22</td>\n",
       "      <td>7.483642e+25</td>\n",
       "      <td>1.283445e+29</td>\n",
       "      <td>2.201107e+32</td>\n",
       "      <td>3.774899e+35</td>\n",
       "      <td>6.473952e+38</td>\n",
       "      <td>1.110283e+42</td>\n",
       "      <td>1.904135e+45</td>\n",
       "      <td>3.265592e+48</td>\n",
       "      <td>257500</td>\n",
       "    </tr>\n",
       "  </tbody>\n",
       "</table>\n",
       "</div>"
      ],
      "text/plain": [
       "   power_1  power_2      power_3       power_4       power_5       power_6  \\\n",
       "0     1180  1392400   1643032000  1.938778e+12  2.287758e+15  2.699554e+18   \n",
       "1     2570  6604900  16974593000  4.362470e+13  1.121155e+17  2.881368e+20   \n",
       "2      770   592900    456533000  3.515304e+11  2.706784e+14  2.084224e+17   \n",
       "3     1680  2822400   4741632000  7.965942e+12  1.338278e+16  2.248307e+19   \n",
       "4     1715  2941225   5044200875  8.650805e+12  1.483613e+16  2.544396e+19   \n",
       "\n",
       "        power_7       power_8       power_9      power_10      power_11  \\\n",
       "0  3.185474e+21  3.758859e+24  4.435454e+27  5.233836e+30  6.175926e+33   \n",
       "1  7.405116e+23  1.903115e+27  4.891005e+30  1.256988e+34  3.230460e+37   \n",
       "2  1.604852e+20  1.235736e+23  9.515169e+25  7.326680e+28  5.641544e+31   \n",
       "3  3.777156e+22  6.345623e+25  1.066065e+29  1.790989e+32  3.008861e+35   \n",
       "4  4.363640e+22  7.483642e+25  1.283445e+29  2.201107e+32  3.774899e+35   \n",
       "\n",
       "       power_12      power_13      power_14      power_15   price  \n",
       "0  7.287593e+36  8.599359e+39  1.014724e+43  1.197375e+46  221900  \n",
       "1  8.302282e+40  2.133686e+44  5.483574e+47  1.409279e+51  538000  \n",
       "2  4.343989e+34  3.344871e+37  2.575551e+40  1.983174e+43  180000  \n",
       "3  5.054886e+38  8.492209e+41  1.426691e+45  2.396841e+48  510000  \n",
       "4  6.473952e+38  1.110283e+42  1.904135e+45  3.265592e+48  257500  "
      ]
     },
     "execution_count": 357,
     "metadata": {},
     "output_type": "execute_result"
    }
   ],
   "source": [
    "# Engineering the test set\n",
    "poly_data_test = polynomial_dataframe(house_test['sqft_living'], 15)\n",
    "poly_data_test['price'] = house_test['price']\n",
    "poly_data_test.head()\n",
    "\n",
    "# Engineering the validation set\n",
    "poly_data_validation = polynomial_dataframe(house_valid['sqft_living'], 15)\n",
    "poly_data_validation['price'] = house_valid['price']\n",
    "poly_data_validation.head()"
   ]
  },
  {
   "cell_type": "code",
   "execution_count": 358,
   "metadata": {
    "collapsed": false
   },
   "outputs": [
    {
     "name": "stdout",
     "output_type": "stream",
     "text": [
      "The RSS for  1 th degree polynomial:  629097886299587.5\n",
      "The RSS for  2 th degree polynomial:  623955062706519.1\n",
      "The RSS for  3 th degree polynomial:  625820280251530.6\n",
      "The RSS for  4 th degree polynomial:  629987341468499.8\n",
      "The RSS for  5 th degree polynomial:  628240679314405.9\n",
      "The RSS for  6 th degree polynomial:  566268593930554.5\n",
      "The RSS for  7 th degree polynomial:  1073845517537453.6\n",
      "The RSS for  8 th degree polynomial:  7087872270340538.0\n",
      "The RSS for  9 th degree polynomial:  4.530360160665216e+16\n",
      "The RSS for  10 th degree polynomial:  2.475699114375292e+17\n",
      "The RSS for  11 th degree polynomial:  1.193782560132884e+18\n",
      "The RSS for  12 th degree polynomial:  5.092665343583419e+18\n",
      "The RSS for  13 th degree polynomial:  7.616230021284306e+17\n",
      "The RSS for  14 th degree polynomial:  2.2975609250061896e+18\n",
      "The RSS for  15 th degree polynomial:  6.955038097253948e+18\n"
     ]
    }
   ],
   "source": [
    "import sys\n",
    "\n",
    "index = ['power_1','power_2','power_3','power_4','power_5','power_6','power_7','power_8','power_9',\n",
    "        'power_10','power_11','power_12','power_13','power_14','power_15']\n",
    "\n",
    "for power in range(1, 16):\n",
    "    name = 'power_' + str(power)\n",
    "    \n",
    "    # Build a data set\n",
    "    poly_data_training = polynomial_dataframe(house_train['sqft_living'], power)\n",
    "    poly_data_training['price'] = house_train['price']\n",
    "    \n",
    "    # Build a model and fit it using the training data\n",
    "    model = linear_model.LinearRegression()\n",
    "    model.fit(poly_data_training[index[0:power]],  poly_data_training['price'])\n",
    "    \n",
    "    # Compute the RSS on the test set\n",
    "    RSS = ((model.predict(poly_data_validation[index[0:power]]) - poly_data_validation.price) ** 2).sum()\n",
    "    print('The RSS for ', power,'th degree polynomial: ', RSS)\n",
    "    \n",
    "    if(power == 1):\n",
    "        min = RSS\n",
    "    \n",
    "    # Save the min RSS\n",
    "    if(RSS < min):\n",
    "        min = RSS\n",
    "        minPower = power\n",
    "        optimalModel = model"
   ]
  },
  {
   "cell_type": "code",
   "execution_count": 359,
   "metadata": {
    "collapsed": false
   },
   "outputs": [
    {
     "name": "stdout",
     "output_type": "stream",
     "text": [
      "The minimum RSS:  566268593930554.5  for the  6 th degree polynomial\n"
     ]
    }
   ],
   "source": [
    "print ('The minimum RSS: ', min, ' for the ', minPower,'th degree polynomial')"
   ]
  },
  {
   "cell_type": "markdown",
   "metadata": {},
   "source": [
    "# Testing the optimal model on the test set"
   ]
  },
  {
   "cell_type": "code",
   "execution_count": 360,
   "metadata": {
    "collapsed": false
   },
   "outputs": [
    {
     "name": "stdout",
     "output_type": "stream",
     "text": [
      "Test RSS: 135225114656218.83\n"
     ]
    }
   ],
   "source": [
    "name = 'power_' + str(minPower)\n",
    "print(\"Test RSS: %.2f\" % ((optimalModel.predict(poly_data_test[index[0:minPower]]) - poly_data_test['price']) ** 2).sum())"
   ]
  },
  {
   "cell_type": "code",
   "execution_count": null,
   "metadata": {
    "collapsed": true
   },
   "outputs": [],
   "source": []
  }
 ],
 "metadata": {
  "kernelspec": {
   "display_name": "Python 3",
   "language": "python",
   "name": "python3"
  },
  "language_info": {
   "codemirror_mode": {
    "name": "ipython",
    "version": 3
   },
   "file_extension": ".py",
   "mimetype": "text/x-python",
   "name": "python",
   "nbconvert_exporter": "python",
   "pygments_lexer": "ipython3",
   "version": "3.5.1"
  }
 },
 "nbformat": 4,
 "nbformat_minor": 0
}
