{
 "cells": [
  {
   "cell_type": "markdown",
   "metadata": {},
   "source": [
    "# Initialise the libraries"
   ]
  },
  {
   "cell_type": "code",
   "execution_count": 43,
   "metadata": {
    "collapsed": true
   },
   "outputs": [],
   "source": [
    "import numpy as np\n",
    "import pandas as pd\n",
    "import matplotlib.pyplot as plt\n",
    "from math import log, sqrt\n",
    "from sklearn import linear_model"
   ]
  },
  {
   "cell_type": "markdown",
   "metadata": {
    "collapsed": true
   },
   "source": [
    "# Load the data"
   ]
  },
  {
   "cell_type": "code",
   "execution_count": 53,
   "metadata": {
    "collapsed": false
   },
   "outputs": [],
   "source": [
    "dtype_dict = {'bathrooms':float, 'waterfront':int, 'sqft_above':int, 'sqft_living15':float, 'grade':int, 'yr_renovated':int, 'price':float, 'bedrooms':float, 'zipcode':str, 'long':float, 'sqft_lot15':float, 'sqft_living':float, 'floors':float, 'condition':int, 'lat':float, 'date':str, 'sqft_basement':int, 'yr_built':int, 'id':str, 'sqft_lot':int, 'view':int}"
   ]
  },
  {
   "cell_type": "code",
   "execution_count": 54,
   "metadata": {
    "collapsed": false
   },
   "outputs": [],
   "source": [
    "sales = pd.read_csv('../datasets/kc_house_data.csv', dtype=dtype_dict)\n",
    "\n",
    "testing = pd.read_csv('../datasets/wk3_kc_house_test_data.csv', dtype=dtype_dict)\n",
    "training = pd.read_csv('../datasets/wk3_kc_house_train_data.csv', dtype=dtype_dict)\n",
    "validation = pd.read_csv('../datasets/wk3_kc_house_valid_data.csv', dtype=dtype_dict)"
   ]
  },
  {
   "cell_type": "markdown",
   "metadata": {},
   "source": [
    "# Feature engineering"
   ]
  },
  {
   "cell_type": "code",
   "execution_count": 55,
   "metadata": {
    "collapsed": false
   },
   "outputs": [],
   "source": [
    "sales['sqft_living_sqrt'] = sales['sqft_living'].apply(sqrt)\n",
    "sales['sqft_lot_sqrt'] = sales['sqft_lot'].apply(sqrt)\n",
    "sales['bedrooms_square'] = sales['bedrooms']*sales['bedrooms']\n",
    "sales['floors_square'] = sales['floors']*sales['floors']"
   ]
  },
  {
   "cell_type": "code",
   "execution_count": 56,
   "metadata": {
    "collapsed": true
   },
   "outputs": [],
   "source": [
    "testing['sqft_living_sqrt'] = testing['sqft_living'].apply(sqrt)\n",
    "testing['sqft_lot_sqrt'] = testing['sqft_lot'].apply(sqrt)\n",
    "testing['bedrooms_square'] = testing['bedrooms']*testing['bedrooms']\n",
    "testing['floors_square'] = testing['floors']*testing['floors']\n",
    "\n",
    "training['sqft_living_sqrt'] = training['sqft_living'].apply(sqrt)\n",
    "training['sqft_lot_sqrt'] = training['sqft_lot'].apply(sqrt)\n",
    "training['bedrooms_square'] = training['bedrooms']*training['bedrooms']\n",
    "training['floors_square'] = training['floors']*training['floors']\n",
    "\n",
    "validation['sqft_living_sqrt'] = validation['sqft_living'].apply(sqrt)\n",
    "validation['sqft_lot_sqrt'] = validation['sqft_lot'].apply(sqrt)\n",
    "validation['bedrooms_square'] = validation['bedrooms']*validation['bedrooms']\n",
    "validation['floors_square'] = validation['floors']*validation['floors']"
   ]
  },
  {
   "cell_type": "code",
   "execution_count": 57,
   "metadata": {
    "collapsed": false
   },
   "outputs": [],
   "source": [
    "all_features = ['bedrooms', 'bedrooms_square',\n",
    "            'bathrooms',\n",
    "            'sqft_living', 'sqft_living_sqrt',\n",
    "            'sqft_lot', 'sqft_lot_sqrt',\n",
    "            'floors', 'floors_square',\n",
    "            'waterfront', 'view', 'condition', 'grade',\n",
    "            'sqft_above',\n",
    "            'sqft_basement',\n",
    "            'yr_built', 'yr_renovated']"
   ]
  },
  {
   "cell_type": "markdown",
   "metadata": {},
   "source": [
    "# LASSO"
   ]
  },
  {
   "cell_type": "code",
   "execution_count": 58,
   "metadata": {
    "collapsed": false
   },
   "outputs": [
    {
     "data": {
      "text/plain": [
       "Lasso(alpha=500.0, copy_X=True, fit_intercept=True, max_iter=1000,\n",
       "   normalize=True, positive=False, precompute=False, random_state=None,\n",
       "   selection='cyclic', tol=0.0001, warm_start=False)"
      ]
     },
     "execution_count": 58,
     "metadata": {},
     "output_type": "execute_result"
    }
   ],
   "source": [
    "model_all = linear_model.Lasso(alpha=5e2, normalize=True) # set parameters\n",
    "model_all.fit(sales[all_features], sales['price']) # learn weights"
   ]
  },
  {
   "cell_type": "code",
   "execution_count": 108,
   "metadata": {
    "collapsed": false
   },
   "outputs": [
    {
     "name": "stdout",
     "output_type": "stream",
     "text": [
      "['bedrooms', 'bedrooms_square', 'bathrooms', 'sqft_living', 'sqft_living_sqrt', 'sqft_lot', 'sqft_lot_sqrt', 'floors', 'floors_square', 'waterfront', 'view', 'condition', 'grade', 'sqft_above', 'sqft_basement', 'yr_built', 'yr_renovated'] \n",
      "\n",
      "[     0.              0.              0.            134.43931396      0.\n",
      "      0.              0.              0.              0.              0.\n",
      "  24750.00458561      0.          61749.10309071      0.              0.\n",
      "     -0.              0.        ]\n"
     ]
    }
   ],
   "source": [
    "print (all_features, '\\n')\n",
    "print (model_all.coef_)"
   ]
  },
  {
   "cell_type": "code",
   "execution_count": 84,
   "metadata": {
    "collapsed": false
   },
   "outputs": [
    {
     "name": "stdout",
     "output_type": "stream",
     "text": [
      "With intercetp, nonzeros:  4\n",
      "No intercept:  3\n"
     ]
    }
   ],
   "source": [
    "print ('With intercetp, nonzeros: ', np.count_nonzero(model_all.coef_) + np.count_nonzero(model_all.intercept_))\n",
    "print ('No intercept: ', np.count_nonzero(model_all.coef_))"
   ]
  },
  {
   "cell_type": "code",
   "execution_count": 60,
   "metadata": {
    "collapsed": false
   },
   "outputs": [
    {
     "data": {
      "text/plain": [
       "array([  1.00000000e+01,   3.16227766e+01,   1.00000000e+02,\n",
       "         3.16227766e+02,   1.00000000e+03,   3.16227766e+03,\n",
       "         1.00000000e+04,   3.16227766e+04,   1.00000000e+05,\n",
       "         3.16227766e+05,   1.00000000e+06,   3.16227766e+06,\n",
       "         1.00000000e+07])"
      ]
     },
     "execution_count": 60,
     "metadata": {},
     "output_type": "execute_result"
    }
   ],
   "source": [
    "l1pentalities = np.logspace(1, 7, num=13)\n",
    "l1pentalities"
   ]
  },
  {
   "cell_type": "code",
   "execution_count": 73,
   "metadata": {
    "collapsed": false
   },
   "outputs": [
    {
     "name": "stdout",
     "output_type": "stream",
     "text": [
      "RSS:  398213327300134.2  for L1:  10.0\n",
      "RSS:  399041900253348.5  for L1:  31.6227766017\n",
      "RSS:  429791604072557.94  for L1:  100.0\n",
      "RSS:  463739831045119.5  for L1:  316.227766017\n",
      "RSS:  645898733633810.1  for L1:  1000.0\n",
      "RSS:  1222506859427156.8  for L1:  3162.27766017\n",
      "RSS:  1222506859427156.8  for L1:  10000.0\n",
      "RSS:  1222506859427156.8  for L1:  31622.7766017\n",
      "RSS:  1222506859427156.8  for L1:  100000.0\n",
      "RSS:  1222506859427156.8  for L1:  316227.766017\n",
      "RSS:  1222506859427156.8  for L1:  1000000.0\n",
      "RSS:  1222506859427156.8  for L1:  3162277.66017\n",
      "RSS:  1222506859427156.8  for L1:  10000000.0\n",
      "\n",
      "Minimum RSS: 398213327300134.2  for L1:  10.0\n"
     ]
    }
   ],
   "source": [
    "import sys\n",
    "minRSS = sys.maxsize\n",
    "bestL1 = 0\n",
    "for l1p in l1pentalities:\n",
    "    model = linear_model.Lasso(alpha=l1p, normalize=True)\n",
    "    model.fit(training[all_features], training['price']) # learn weights\n",
    "    \n",
    "    # Calculate the RSS\n",
    "    RSS = ((model.predict(validation[all_features]) - validation.price) ** 2).sum()\n",
    "    print (\"RSS: \", RSS, \" for L1: \", l1p)\n",
    "    \n",
    "    # Remember the min RSS\n",
    "    if RSS < minRSS:\n",
    "        minRSS = RSS\n",
    "        bestL1 = l1p\n",
    "        \n",
    "print ('\\nMinimum RSS:', minRSS, ' for L1: ', bestL1)"
   ]
  },
  {
   "cell_type": "markdown",
   "metadata": {
    "collapsed": true
   },
   "source": [
    "# Calculate the RSS for best L1 on test data"
   ]
  },
  {
   "cell_type": "code",
   "execution_count": 74,
   "metadata": {
    "collapsed": false
   },
   "outputs": [
    {
     "data": {
      "text/plain": [
       "Lasso(alpha=10.0, copy_X=True, fit_intercept=True, max_iter=1000,\n",
       "   normalize=True, positive=False, precompute=False, random_state=None,\n",
       "   selection='cyclic', tol=0.0001, warm_start=False)"
      ]
     },
     "execution_count": 74,
     "metadata": {},
     "output_type": "execute_result"
    }
   ],
   "source": [
    "model = linear_model.Lasso(alpha=bestL1, normalize=True)\n",
    "model.fit(training[all_features], training['price']) # learn weights"
   ]
  },
  {
   "cell_type": "code",
   "execution_count": 76,
   "metadata": {
    "collapsed": false
   },
   "outputs": [
    {
     "name": "stdout",
     "output_type": "stream",
     "text": [
      "RSS:  98467402552698.83  for L1:  10.0\n"
     ]
    }
   ],
   "source": [
    "# Calculate the RSS\n",
    "RSS = ((model.predict(testing[all_features]) - testing.price) ** 2).sum()\n",
    "print (\"RSS: \", RSS, \" for L1: \", bestL1)"
   ]
  },
  {
   "cell_type": "code",
   "execution_count": 77,
   "metadata": {
    "collapsed": false
   },
   "outputs": [
    {
     "name": "stdout",
     "output_type": "stream",
     "text": [
      "[ -1.61445628e+04   3.73245384e+02   5.08412433e+04   6.17853560e+02\n",
      "  -4.44113549e+04   7.85623065e-01  -7.01194765e+02  -0.00000000e+00\n",
      "   5.01420046e+03   6.19488752e+05   3.80418557e+04   2.49987718e+04\n",
      "   1.28716235e+05   0.00000000e+00   0.00000000e+00  -3.29383118e+03\n",
      "   1.00573209e+01]\n"
     ]
    }
   ],
   "source": [
    "print (model.coef_)"
   ]
  },
  {
   "cell_type": "code",
   "execution_count": 78,
   "metadata": {
    "collapsed": false
   },
   "outputs": [
    {
     "name": "stdout",
     "output_type": "stream",
     "text": [
      "6630155.66863\n"
     ]
    }
   ],
   "source": [
    "print (model.intercept_)"
   ]
  },
  {
   "cell_type": "code",
   "execution_count": 79,
   "metadata": {
    "collapsed": false
   },
   "outputs": [
    {
     "data": {
      "text/plain": [
       "15"
      ]
     },
     "execution_count": 79,
     "metadata": {},
     "output_type": "execute_result"
    }
   ],
   "source": [
    "np.count_nonzero(model.coef_) + np.count_nonzero(model.intercept_)"
   ]
  },
  {
   "cell_type": "markdown",
   "metadata": {},
   "source": [
    "# 2 Phase LASSO for finding a desired number of nonzero features"
   ]
  },
  {
   "cell_type": "markdown",
   "metadata": {},
   "source": [
    "First we loop through an array of L1 alues and find an interval where our model gets the desired number of nonzero coefficients. In phase 2 we loop once more through the interval (from the first phase) but with small steps, the goal of the second phase is to find the optimal L1 for our nonzero number."
   ]
  },
  {
   "cell_type": "code",
   "execution_count": 87,
   "metadata": {
    "collapsed": false
   },
   "outputs": [
    {
     "name": "stdout",
     "output_type": "stream",
     "text": [
      "[    10.             14.38449888     20.69138081     29.76351442\n",
      "     42.81332399     61.58482111     88.58667904    127.42749857\n",
      "    183.29807108    263.66508987    379.26901907    545.55947812\n",
      "    784.75997035   1128.83789168   1623.77673919   2335.72146909\n",
      "   3359.81828628   4832.93023857   6951.92796178  10000.        ]\n"
     ]
    }
   ],
   "source": [
    "max_nonzeros = 7\n",
    "L1_range = np.logspace(1, 4, num=20)\n",
    "print (L1_range)"
   ]
  },
  {
   "cell_type": "code",
   "execution_count": 100,
   "metadata": {
    "collapsed": false
   },
   "outputs": [
    {
     "name": "stdout",
     "output_type": "stream",
     "text": [
      "l1_penalty_min:  127.42749857\n",
      "l1_penalty_max:  263.665089873\n"
     ]
    }
   ],
   "source": [
    "l1_penalty_min = L1_range[0]\n",
    "l1_penalty_max = L1_range[19]\n",
    "\n",
    "for L1 in L1_range:\n",
    "    model = linear_model.Lasso(alpha=L1, normalize=True)\n",
    "    model.fit(training[all_features], training['price']) # learn weights\n",
    "    \n",
    "    nonZeroes = np.count_nonzero(model.coef_) + np.count_nonzero(model.intercept_)\n",
    "    \n",
    "    # The largest l1_penalty that has more non-zeros than ‘max_nonzeros’\n",
    "    if (nonZeroes > max_nonzeros) and (L1 > l1_penalty_min) :\n",
    "        l1_penalty_min = L1\n",
    "    \n",
    "    # The smallest l1_penalty that has fewer non-zeros than ‘max_nonzeros’\n",
    "    if (nonZeroes < max_nonzeros) and (L1 < l1_penalty_max):\n",
    "        l1_penalty_max = L1\n",
    "    \n",
    "print ('l1_penalty_min: ', l1_penalty_min)\n",
    "print ('l1_penalty_max: ', l1_penalty_max)"
   ]
  },
  {
   "cell_type": "code",
   "execution_count": 101,
   "metadata": {
    "collapsed": false
   },
   "outputs": [
    {
     "name": "stdout",
     "output_type": "stream",
     "text": [
      "[ 127.42749857  134.59789811  141.76829765  148.9386972   156.10909674\n",
      "  163.27949628  170.44989582  177.62029537  184.79069491  191.96109445\n",
      "  199.13149399  206.30189354  213.47229308  220.64269262  227.81309216\n",
      "  234.9834917   242.15389125  249.32429079  256.49469033  263.66508987]\n"
     ]
    }
   ],
   "source": [
    "L1_narrow_interval = np.linspace(l1_penalty_min,l1_penalty_max,20)\n",
    "print (L1_narrow_interval)"
   ]
  },
  {
   "cell_type": "code",
   "execution_count": 103,
   "metadata": {
    "collapsed": false
   },
   "outputs": [
    {
     "name": "stdout",
     "output_type": "stream",
     "text": [
      "RSS:  439071925352513.5  for L1:  127.42749857\n",
      "RSS:  441128710027316.2  for L1:  134.597898113\n",
      "RSS:  442825187166448.6  for L1:  141.768297655\n",
      "RSS:  443877431690779.8  for L1:  148.938697197\n",
      "RSS:  444981125900466.9  for L1:  156.109096739\n",
      "RSS:  446136908849758.8  for L1:  163.279496282\n",
      "RSS:  447344709605347.4  for L1:  170.449895824\n",
      "RSS:  448566985859170.6  for L1:  177.620295366\n",
      "RSS:  449776911889219.44  for L1:  184.790694908\n",
      "RSS:  450854996344141.7  for L1:  191.961094451\n",
      "RSS:  451974123723514.44  for L1:  199.131493993\n",
      "RSS:  453134295270743.25  for L1:  206.301893535\n",
      "RSS:  454335490310594.6  for L1:  213.472293077\n",
      "RSS:  455577721405395.1  for L1:  220.64269262\n",
      "RSS:  456860991130726.44  for L1:  227.813092162\n",
      "RSS:  458185301192967.8  for L1:  234.983491704\n",
      "RSS:  459550648291129.0  for L1:  242.153891246\n",
      "RSS:  460956444625909.44  for L1:  249.324290789\n",
      "RSS:  462403851116601.9  for L1:  256.494690331\n",
      "RSS:  463892295836626.3  for L1:  263.665089873\n",
      "\n",
      "Minimum RSS: 439071925352513.5  for L1:  127.42749857\n"
     ]
    }
   ],
   "source": [
    "minRSS = sys.maxsize\n",
    "bestL1 = 0\n",
    "\n",
    "# Find the model with desired number of nonzeroes with the best RSS\n",
    "for L1 in L1_narrow_interval:\n",
    "    model = linear_model.Lasso(alpha=L1, normalize=True)\n",
    "    model.fit(validation[all_features], validation['price']) # learn weights\n",
    "    \n",
    "    # Calculate the RSS\n",
    "    RSS = ((model.predict(validation[all_features]) - validation.price) ** 2).sum()\n",
    "    print (\"RSS: \", RSS, \" for L1: \", L1)\n",
    "     \n",
    "    # Remember the min RSS\n",
    "    if RSS < minRSS:\n",
    "        minRSS = RSS\n",
    "        bestL1 = L1\n",
    "        \n",
    "print ('\\nMinimum RSS:', minRSS, ' for L1: ', bestL1)"
   ]
  },
  {
   "cell_type": "code",
   "execution_count": 106,
   "metadata": {
    "collapsed": false
   },
   "outputs": [
    {
     "name": "stdout",
     "output_type": "stream",
     "text": [
      "['bedrooms', 'bedrooms_square', 'bathrooms', 'sqft_living', 'sqft_living_sqrt', 'sqft_lot', 'sqft_lot_sqrt', 'floors', 'floors_square', 'waterfront', 'view', 'condition', 'grade', 'sqft_above', 'sqft_basement', 'yr_built', 'yr_renovated']\n",
      "\n",
      "[ -3.29055642e+03  -0.00000000e+00   1.18432899e+04   1.44136981e+02\n",
      "   0.00000000e+00  -0.00000000e+00  -2.74611191e+01   0.00000000e+00\n",
      "   0.00000000e+00   4.70965287e+05   4.93452902e+04   0.00000000e+00\n",
      "   1.20591515e+05   0.00000000e+00   0.00000000e+00  -2.50635813e+03\n",
      "   4.18993990e+00]\n",
      "\n",
      "4230438.42604\n"
     ]
    }
   ],
   "source": [
    "model = linear_model.Lasso(alpha=bestL1, normalize=True)\n",
    "model.fit(validation[all_features], validation['price']) # learn weights\n",
    "\n",
    "print (all_features)\n",
    "print ()\n",
    "print (model.coef_)\n",
    "print ()\n",
    "print (model.intercept_)"
   ]
  },
  {
   "cell_type": "code",
   "execution_count": null,
   "metadata": {
    "collapsed": true
   },
   "outputs": [],
   "source": []
  }
 ],
 "metadata": {
  "kernelspec": {
   "display_name": "Python 3",
   "language": "python",
   "name": "python3"
  },
  "language_info": {
   "codemirror_mode": {
    "name": "ipython",
    "version": 3
   },
   "file_extension": ".py",
   "mimetype": "text/x-python",
   "name": "python",
   "nbconvert_exporter": "python",
   "pygments_lexer": "ipython3",
   "version": "3.5.1"
  }
 },
 "nbformat": 4,
 "nbformat_minor": 0
}
